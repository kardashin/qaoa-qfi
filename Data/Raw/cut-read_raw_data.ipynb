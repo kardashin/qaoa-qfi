{
 "cells": [
  {
   "cell_type": "code",
   "execution_count": 4,
   "id": "2b3f329b-f79f-4311-bee0-e89fe5d12240",
   "metadata": {},
   "outputs": [],
   "source": [
    "import numpy as np\n",
    "from numpy import array, arange, zeros, ones\n",
    "import pickle"
   ]
  },
  {
   "cell_type": "code",
   "execution_count": 5,
   "id": "71507be3-2a5d-4e94-adf3-58bdf36ba8ee",
   "metadata": {},
   "outputs": [],
   "source": [
    "n = 7\n",
    "prob_list = np.round(arange(0.3, 1.0, 0.1), 2)\n",
    "p_min = 1\n",
    "p_max = 70\n",
    "s_min = 0\n",
    "s_max = 49\n",
    "r_min = 0\n",
    "r_max = 19"
   ]
  },
  {
   "cell_type": "code",
   "execution_count": 8,
   "id": "5bdba026-427f-4a36-8349-0d81912dcb2b",
   "metadata": {},
   "outputs": [],
   "source": [
    "path = \"/home/kardashin/Work/QAOA-QFI/Data/Raw/CUT/Random_graphs/\"\n",
    "pref = \"maxcut-random_graphs-\"\n",
    "post = \"-prevsol\" "
   ]
  },
  {
   "cell_type": "code",
   "execution_count": 9,
   "id": "2667df45-baed-478e-a972-595cb3c32566",
   "metadata": {},
   "outputs": [
    {
     "name": "stdout",
     "output_type": "stream",
     "text": [
      "prob=0.90 | s=49 | r=19"
     ]
    }
   ],
   "source": [
    "fvals_list = []\n",
    "xfs_list = []\n",
    "funs_list = zeros([len(prob_list), s_max - s_min + 1, r_max - r_min + 1, p_max - p_min + 1])\n",
    "errors_list = zeros([len(prob_list), s_max - s_min + 1, r_max - r_min + 1, p_max - p_min + 1])\n",
    "nits_list = zeros([len(prob_list), s_max - s_min + 1, r_max - r_min + 1, p_max - p_min + 1])\n",
    "nfevs_list = zeros([len(prob_list), s_max - s_min + 1, r_max - r_min + 1, p_max - p_min + 1])\n",
    "times_list = zeros([len(prob_list), s_max - s_min + 1, r_max - r_min + 1, p_max - p_min + 1])\n",
    "EQD_list = zeros([len(prob_list), s_max - s_min + 1, r_max - r_min + 1])\n",
    "H_diag_list = zeros([len(prob_list), s_max - s_min + 1, 2**n])\n",
    "\n",
    "for prob_i in range(len(prob_list)):\n",
    "\n",
    "    folder = 'n=%d-prob=%.2f-p=(%d,%d)-prevsol/' %(n, prob_list[prob_i], p_min, p_max)\n",
    "\n",
    "    fvals_m = []\n",
    "    xfs_m = []\n",
    "    for s in range(s_min, s_max + 1):\n",
    "        fvals_s = []\n",
    "        xfs_s = []\n",
    "        for r in range(r_min, r_max + 1):\n",
    "            print(\"prob=%.2f | s=%d | r=%d\" %(prob_list[prob_i], s, r), end=\"\\r\")\n",
    "            try:\n",
    "                file_name = path + folder + pref + \"n=%d-prob=%.2f-p=(%d,%d)-s=%d-r=%d\" %(n, prob_list[prob_i], p_min, p_max, s, r) + post + \".npy\"\n",
    "                _, _, _, _, _, _, _, H_diag_r, fvals_r, funs_r, errors_r, nits_r, nfevs_r, times_r, xfs_r, EQD_r = np.load(file_name, allow_pickle=True)\n",
    "                fvals_s.append(fvals_r)\n",
    "                xfs_s.append(xfs_r)\n",
    "                funs_list[prob_i][s][r] = funs_r\n",
    "                errors_list[prob_i][s][r] = errors_r\n",
    "                nits_list[prob_i][s][r] = nits_r\n",
    "                nfevs_list[prob_i][s][r] = nfevs_r\n",
    "                times_list[prob_i][s][r] = times_r\n",
    "                EQD_list[prob_i][s][r] = EQD_r\n",
    "            except:\n",
    "                print(\"\\tNo data for (m=%d, s=%d, r=%d)\" %(prob_list[prob_i], s, r))\n",
    "                fvals_s.append(100*ones(1))\n",
    "                xfs_s.append(zeros(2*p_max))\n",
    "                funs_list[prob_i][s][r] = 100*ones(p_max - p_min + 1)\n",
    "                errors_list[prob_i][s][r] = 100*ones(p_max - p_min + 1)\n",
    "                nits_list[prob_i][s][r] = zeros(p_max - p_min + 1)\n",
    "                nfevs_list[prob_i][s][r] = zeros(p_max - p_min + 1)\n",
    "                times_list[prob_i][s][r] = zeros(p_max - p_min + 1)\n",
    "                EQD_list[prob_i][s][r] = 2**n\n",
    "    \n",
    "        fvals_m.append(fvals_s)\n",
    "        xfs_m.append(xfs_s)\n",
    "        H_diag_list[prob_i][s] = H_diag_r\n",
    "    \n",
    "    fvals_list.append(fvals_m)\n",
    "    xfs_list.append(xfs_m)\n",
    "\n",
    "p_c_list = np.floor(np.max(EQD_list, axis=2)/2)"
   ]
  },
  {
   "cell_type": "code",
   "execution_count": 10,
   "id": "1cd2b32b-a92d-4593-9c1f-fadb6182ce9d",
   "metadata": {},
   "outputs": [],
   "source": [
    "path = \"/home/kardashin/Work/QAOA-QFI/Data/\"\n",
    "file_name = path + \"cut-\" + f\"n={n}-prob=({prob_list[0]},{prob_list[-1]})-p=({p_min},{p_max})-s=({s_min},{s_max})-r=({r_min},{r_max})\" + post \n",
    "\n",
    "data_dict = {\n",
    "    \"n\": n,\n",
    "    \"prob_list\": prob_list,\n",
    "    \"s_min\": s_min,\n",
    "    \"s_max\": s_max,\n",
    "    \"r_min\": r_min,\n",
    "    \"r_max\": r_max,\n",
    "    \"p_min\": p_min,\n",
    "    \"p_max\": p_max,\n",
    "    \"funs_list\": funs_list,\n",
    "    \"errors_list\": errors_list,\n",
    "    \"nits_list\": nits_list,\n",
    "    \"nfevs_list\": nfevs_list,\n",
    "    \"times_list\": times_list,\n",
    "    \"EQD_list\": EQD_list,\n",
    "    \"H_diag_list\": H_diag_list,\n",
    "    # \"fvals_list\": fvals_list,\n",
    "    # \"xfs_list\": xfs_list,\n",
    "    \"note\": \"p -> p+1 initialization (prevsol). BFGS optimizer\", \n",
    "} \n",
    "\n",
    "with open(file_name + \".dict\", 'wb') as fp:\n",
    "    pickle.dump(data_dict, fp, protocol=pickle.HIGHEST_PROTOCOL)"
   ]
  },
  {
   "cell_type": "code",
   "execution_count": null,
   "id": "c8f1d1b1-b974-4cc5-9ee9-60614923c60e",
   "metadata": {},
   "outputs": [],
   "source": []
  },
  {
   "cell_type": "code",
   "execution_count": null,
   "id": "925935b5-4cb5-4730-9031-2fd29085f01d",
   "metadata": {},
   "outputs": [],
   "source": []
  },
  {
   "cell_type": "code",
   "execution_count": null,
   "id": "efe6d739-04f9-4ce2-a2a2-0af75893d266",
   "metadata": {},
   "outputs": [],
   "source": []
  }
 ],
 "metadata": {
  "kernelspec": {
   "display_name": "Python 3",
   "language": "python",
   "name": "python3"
  },
  "language_info": {
   "codemirror_mode": {
    "name": "ipython",
    "version": 3
   },
   "file_extension": ".py",
   "mimetype": "text/x-python",
   "name": "python",
   "nbconvert_exporter": "python",
   "pygments_lexer": "ipython3",
   "version": "3.11.7"
  }
 },
 "nbformat": 4,
 "nbformat_minor": 5
}
