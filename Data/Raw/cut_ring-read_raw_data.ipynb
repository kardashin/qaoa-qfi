{
 "cells": [
  {
   "cell_type": "code",
   "execution_count": 2,
   "id": "2b3f329b-f79f-4311-bee0-e89fe5d12240",
   "metadata": {},
   "outputs": [],
   "source": [
    "import numpy as np\n",
    "from numpy import array, arange, zeros, ones, concatenate\n",
    "import pickle"
   ]
  },
  {
   "cell_type": "code",
   "execution_count": 3,
   "id": "6ef92ccf-37a9-4f2f-9979-aae9e32f1eb6",
   "metadata": {},
   "outputs": [],
   "source": [
    "n = 20\n",
    "p_min = 1\n",
    "p_max = 14\n",
    "r_min = 0\n",
    "r_max = 49\n",
    "\n",
    "path = \"/home/kardashin/Work/QAOA-QFI/Data/Raw/CUT/Ring/\"\n",
    "folder = \"n=%d-p=(%d,%d)-r=%d-ring_maxcut-BFGS-prevsol/\" %(n, p_min, p_max, r_max - r_min + 1)"
   ]
  },
  {
   "cell_type": "code",
   "execution_count": 4,
   "id": "e1f413bf-bd9d-404e-8a8a-0763ccff704a",
   "metadata": {},
   "outputs": [
    {
     "name": "stdout",
     "output_type": "stream",
     "text": [
      "r=49"
     ]
    }
   ],
   "source": [
    "fvals_list = []\n",
    "xfs_list = []\n",
    "funs_list = zeros([r_max - r_min + 1, p_max - p_min + 1])\n",
    "errors_list = zeros([r_max - r_min + 1, p_max - p_min + 1])\n",
    "nits_list = zeros([r_max - r_min + 1, p_max - p_min + 1])\n",
    "nfevs_list = zeros([r_max - r_min + 1, p_max - p_min + 1])\n",
    "times_list = zeros([r_max - r_min + 1, p_max - p_min + 1])\n",
    "\n",
    "for r in range(r_min, r_max + 1):\n",
    "    print(\"r=%d\" %r, end=\"\\r\")\n",
    "    try:\n",
    "        file_name = \"ring_maxcut-n=%d-p=(%d,%d)-r=%d\" %(n, p_min, p_max, r)\n",
    "        _, _, _, _, fvals_r, funs_r, errors_r, nits_r, nfevs_r, times_r, xfs_r = np.load(path + folder + file_name + \".npy\", allow_pickle=True)\n",
    "        fvals_list.append(fvals_r)\n",
    "        xfs_list.append(xfs_r)\n",
    "        funs_list[r] = concatenate([funs_r, [funs_r[-1]]*(p_max - len(funs_r))])\n",
    "        errors_list[r] = concatenate([errors_r, [errors_r[-1]]*(p_max - len(errors_r))])\n",
    "        nits_list[r] = concatenate([nits_r, [nits_r[-1]]*(p_max - len(nits_r))])\n",
    "        nfevs_list[r] = concatenate([nfevs_r, [nfevs_r[-1]]*(p_max - len(nfevs_r))])\n",
    "        times_list[r] = concatenate([times_r, [times_r[-1]]*(p_max - len(times_r))])\n",
    "    except:\n",
    "        print(\"no data for r=%d\" %r)"
   ]
  },
  {
   "cell_type": "code",
   "execution_count": 14,
   "id": "1cd2b32b-a92d-4593-9c1f-fadb6182ce9d",
   "metadata": {},
   "outputs": [],
   "source": [
    "path = \"/home/kardashin/Work/QAOA-QFI/Data/\"\n",
    "file_name = path + \"cut_ring-\" + f\"n={n}-p=({p_min},{p_max})-r=({r_min},{r_max})\" \n",
    "\n",
    "data_dict = {\n",
    "    \"n\": n,\n",
    "    \"r_min\": r_min,\n",
    "    \"r_max\": r_max,\n",
    "    \"p_min\": p_min,\n",
    "    \"p_max\": p_max,\n",
    "    \"funs_list\": funs_list,\n",
    "    \"errors_list\": errors_list,\n",
    "    \"nits_list\": nits_list,\n",
    "    \"nfevs_list\": nfevs_list,\n",
    "    \"times_list\": times_list,\n",
    "    # \"fvals_list\": fvals_list,\n",
    "    # \"xfs_list\": xfs_list,\n",
    "    \"note\": \"p -> p+1 initialization (prevsol). BFGS optimizer\", \n",
    "} \n",
    "\n",
    "with open(file_name + \"-prevsol.dict\", 'wb') as fp:\n",
    "    pickle.dump(data_dict, fp, protocol=pickle.HIGHEST_PROTOCOL)"
   ]
  },
  {
   "cell_type": "code",
   "execution_count": null,
   "id": "7c57e43a-b824-4356-beb3-e3016af261f6",
   "metadata": {},
   "outputs": [],
   "source": []
  },
  {
   "cell_type": "code",
   "execution_count": null,
   "id": "c8f1d1b1-b974-4cc5-9ee9-60614923c60e",
   "metadata": {},
   "outputs": [],
   "source": []
  },
  {
   "cell_type": "code",
   "execution_count": null,
   "id": "925935b5-4cb5-4730-9031-2fd29085f01d",
   "metadata": {},
   "outputs": [],
   "source": []
  },
  {
   "cell_type": "code",
   "execution_count": null,
   "id": "efe6d739-04f9-4ce2-a2a2-0af75893d266",
   "metadata": {},
   "outputs": [],
   "source": []
  }
 ],
 "metadata": {
  "kernelspec": {
   "display_name": "Python 3",
   "language": "python",
   "name": "python3"
  },
  "language_info": {
   "codemirror_mode": {
    "name": "ipython",
    "version": 3
   },
   "file_extension": ".py",
   "mimetype": "text/x-python",
   "name": "python",
   "nbconvert_exporter": "python",
   "pygments_lexer": "ipython3",
   "version": "3.11.7"
  }
 },
 "nbformat": 4,
 "nbformat_minor": 5
}
