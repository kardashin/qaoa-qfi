{
 "cells": [
  {
   "cell_type": "code",
   "execution_count": 1,
   "id": "fcb1903d-77c2-42f4-86d1-ae79587165a9",
   "metadata": {},
   "outputs": [],
   "source": [
    "import numpy as np\n",
    "from numpy import array, arange, zeros, ones\n",
    "import pickle"
   ]
  },
  {
   "cell_type": "markdown",
   "id": "27c27fbd-bc32-462c-b51f-9ae5ec241690",
   "metadata": {},
   "source": [
    "# $n=7$, $m \\in \\{2, 4, \\dots, 14\\}$"
   ]
  },
  {
   "cell_type": "code",
   "execution_count": 2,
   "id": "9185e7e3-ac7c-4f35-989e-7873741a1757",
   "metadata": {},
   "outputs": [],
   "source": [
    "n = 7\n",
    "m_list = arange(2, 2*n + 1, 2)\n",
    "k = 2\n",
    "\n",
    "s_min = 0\n",
    "s_max = 49\n",
    "r_min = 0\n",
    "r_max = 49\n",
    "p_min = 1\n",
    "p_max = 150"
   ]
  },
  {
   "cell_type": "code",
   "execution_count": 3,
   "id": "f187fb5d-0975-420f-abd2-d470339bbe01",
   "metadata": {},
   "outputs": [],
   "source": [
    "path = \"/home/kardashin/Work/QAOA-QFI/Data/Raw/SAT/\"\n",
    "pref = \"sat-\"\n",
    "post = \"-prevsol\" "
   ]
  },
  {
   "cell_type": "code",
   "execution_count": 4,
   "id": "7dd5f3b4-f001-40de-b2ba-edfe7b3a594d",
   "metadata": {},
   "outputs": [
    {
     "name": "stdout",
     "output_type": "stream",
     "text": [
      "m=14 | s=49 | r=49"
     ]
    }
   ],
   "source": [
    "fvals_list = []\n",
    "xfs_list = []\n",
    "funs_list = zeros([len(m_list), s_max - s_min + 1, r_max - r_min + 1, p_max - p_min + 1])\n",
    "errors_list = zeros([len(m_list), s_max - s_min + 1, r_max - r_min + 1, p_max - p_min + 1])\n",
    "nits_list = zeros([len(m_list), s_max - s_min + 1, r_max - r_min + 1, p_max - p_min + 1])\n",
    "nfevs_list = zeros([len(m_list), s_max - s_min + 1, r_max - r_min + 1, p_max - p_min + 1])\n",
    "times_list = zeros([len(m_list), s_max - s_min + 1, r_max - r_min + 1, p_max - p_min + 1])\n",
    "EQD_list = zeros([len(m_list), s_max - s_min + 1, r_max - r_min + 1])\n",
    "H_diag_list = zeros([len(m_list), s_max - s_min + 1, 2**n])\n",
    "\n",
    "for m_i in range(len(m_list)):\n",
    "\n",
    "    folder = pref + r'n=%d-k=%d-m=(%d,%d)-p=(%d,%d)-s=(%d,%d)-r=(%d,%d)' %(n, k, m_list[0], m_list[-1], p_min, p_max, s_min, s_max, r_min, r_max) + post + \"/\"\n",
    "\n",
    "    fvals_m = []\n",
    "    xfs_m = []\n",
    "    for s in range(s_min, s_max + 1):\n",
    "        fvals_s = []\n",
    "        xfs_s = []\n",
    "        for r in range(r_min, r_max + 1):\n",
    "            print(\"m=%d | s=%d | r=%d\" %(m_list[m_i], s, r), end=\"\\r\")\n",
    "            try:\n",
    "                file_name = path + folder + pref + \"n=%d-k=%d-m=%d-p=(%d,%d)-s=%d-r=%d\" %(n, k, m_list[m_i], p_min, p_max, s, r) + post + \".npy\"\n",
    "                _, _, _, _, _, _, _, H_diag_r, fvals_r, funs_r, errors_r, nits_r, nfevs_r, times_r, xfs_r, EQD_r = np.load(file_name, allow_pickle=True)\n",
    "                fvals_s.append(fvals_r)\n",
    "                xfs_s.append(xfs_r)\n",
    "                funs_list[m_i][s][r] = funs_r\n",
    "                errors_list[m_i][s][r] = errors_r\n",
    "                nits_list[m_i][s][r] = nits_r\n",
    "                nfevs_list[m_i][s][r] = nfevs_r\n",
    "                times_list[m_i][s][r] = times_r\n",
    "                EQD_list[m_i][s][r] = EQD_r\n",
    "            except:\n",
    "                print(\"\\tNo data for (m=%d, s=%d, r=%d)\" %(m_list[m_i], s, r))\n",
    "                fvals_s.append(100*ones(1))\n",
    "                xfs_s.append(zeros(2*p_max))\n",
    "                funs_list[m_i][s][r] = 100*ones(p_max - p_min + 1)\n",
    "                errors_list[m_i][s][r] = 100*ones(p_max - p_min + 1)\n",
    "                nits_list[m_i][s][r] = zeros(p_max - p_min + 1)\n",
    "                nfevs_list[m_i][s][r] = zeros(p_max - p_min + 1)\n",
    "                times_list[m_i][s][r] = zeros(p_max - p_min + 1)\n",
    "                EQD_list[m_i][s][r] = 2**n\n",
    "    \n",
    "        fvals_m.append(fvals_s)\n",
    "        xfs_m.append(xfs_s)\n",
    "        H_diag_list[m_i][s] = H_diag_r\n",
    "    \n",
    "    fvals_list.append(fvals_m)\n",
    "    xfs_list.append(xfs_m)\n",
    "\n",
    "p_c_list = np.floor(np.max(EQD_list, axis=2)/2)"
   ]
  },
  {
   "cell_type": "code",
   "execution_count": 5,
   "id": "29549e38-56f2-4afc-a792-b7e7abea917d",
   "metadata": {},
   "outputs": [],
   "source": [
    "path = \"/home/kardashin/Work/QAOA-QFI/Data/\"\n",
    "file_name = path + pref + f\"n={n}-k={k}-m=({m_list[0]},{m_list[-1]})-p=({p_min},{p_max})-s=({s_min},{s_max})-r=({r_min},{r_max})\" + post \n",
    "\n",
    "data_dict = {\n",
    "    \"n\": n,\n",
    "    \"m_list\": m_list,\n",
    "    \"s_min\": s_min,\n",
    "    \"s_max\": s_max,\n",
    "    \"r_min\": r_min,\n",
    "    \"r_max\": r_max,\n",
    "    \"p_min\": p_min,\n",
    "    \"p_max\": p_max,\n",
    "    \"funs_list\": funs_list,\n",
    "    \"errors_list\": errors_list,\n",
    "    \"nits_list\": nits_list,\n",
    "    \"nfevs_list\": nfevs_list,\n",
    "    \"times_list\": times_list,\n",
    "    \"EQD_list\": EQD_list,\n",
    "    \"H_diag_list\": H_diag_list,\n",
    "    # \"fvals_list\": fvals_list,\n",
    "    # \"xfs_list\": xfs_list,\n",
    "    \"note\": \"p -> p+1 initialization (prevsol). BFGS optimizer\", \n",
    "} \n",
    "\n",
    "with open(file_name + \".dict\", 'wb') as fp:\n",
    "    pickle.dump(data_dict, fp, protocol=pickle.HIGHEST_PROTOCOL)"
   ]
  },
  {
   "cell_type": "markdown",
   "id": "fefb3291-6d44-48db-89c3-d83b448141c9",
   "metadata": {},
   "source": [
    "# $n \\in \\{4, 5, \\ldots, 10\\}$, $m = 2n$"
   ]
  },
  {
   "cell_type": "code",
   "execution_count": 6,
   "id": "56344aad-1560-4144-b317-ff129feb19b0",
   "metadata": {},
   "outputs": [],
   "source": [
    "n_list = arange(4, 11)\n",
    "k = 2\n",
    "\n",
    "s_min = 0\n",
    "s_max = 49\n",
    "r_min = 0\n",
    "r_max = 19\n",
    "p_min = 1\n",
    "p_max = 150"
   ]
  },
  {
   "cell_type": "code",
   "execution_count": 7,
   "id": "bac7973b-0a65-4411-9af5-fda31be14211",
   "metadata": {},
   "outputs": [],
   "source": [
    "path = \"/home/kardashin/Work/QAOA-QFI/Data/Raw/SAT/\"\n",
    "pref = \"sat-\"\n",
    "post = \"-prevsol\" "
   ]
  },
  {
   "cell_type": "code",
   "execution_count": 8,
   "id": "5e680e87-82d6-4c1b-96a6-f2458afa9fd3",
   "metadata": {},
   "outputs": [
    {
     "name": "stdout",
     "output_type": "stream",
     "text": [
      "n=10 | m=20 | s=49 | r=19"
     ]
    }
   ],
   "source": [
    "fvals_list = []\n",
    "xfs_list = []\n",
    "H_diag_list = []\n",
    "funs_list = zeros([len(n_list), s_max - s_min + 1, r_max - r_min + 1, p_max - p_min + 1])\n",
    "errors_list = zeros([len(n_list), s_max - s_min + 1, r_max - r_min + 1, p_max - p_min + 1])\n",
    "nits_list = zeros([len(n_list), s_max - s_min + 1, r_max - r_min + 1, p_max - p_min + 1])\n",
    "nfevs_list = zeros([len(n_list), s_max - s_min + 1, r_max - r_min + 1, p_max - p_min + 1])\n",
    "times_list = zeros([len(n_list), s_max - s_min + 1, r_max - r_min + 1, p_max - p_min + 1])\n",
    "EQD_list = zeros([len(n_list), s_max - s_min + 1, r_max - r_min + 1])\n",
    "\n",
    "for n_i in range(len(n_list)):\n",
    "    m = 2*n_list[n_i]\n",
    "    folder = pref + r'n=%d-k=%d-m=%d-p=(%d,%d)-s=(%d,%d)-r=(%d,%d)' %(n_list[n_i], k, m, p_min, p_max, s_min, s_max, r_min, r_max) + post + \"/\"\n",
    "\n",
    "    fvals_n = []\n",
    "    xfs_n = []\n",
    "    H_diag_n = []\n",
    "    for s in range(s_min, s_max + 1):\n",
    "        fvals_s = []\n",
    "        xfs_s = []\n",
    "        for r in range(r_min, r_max + 1):\n",
    "            print(\"n=%d | m=%d | s=%d | r=%d\" %(n_list[n_i], m, s, r), end=\"\\r\")\n",
    "            try:\n",
    "                file_name = path + folder + pref + \"n=%d-k=%d-m=%d-p=(%d,%d)-s=%d-r=%d\" %(n_list[n_i], k, m, p_min, p_max, s, r) + post + \".npy\"\n",
    "                _, _, _, _, _, _, _, H_diag_r, fvals_r, funs_r, errors_r, nits_r, nfevs_r, times_r, xfs_r, EQD_r = np.load(file_name, allow_pickle=True)\n",
    "                fvals_s.append(fvals_r)\n",
    "                xfs_s.append(xfs_r)\n",
    "                funs_list[n_i][s][r] = funs_r\n",
    "                errors_list[n_i][s][r] = errors_r\n",
    "                nits_list[n_i][s][r] = nits_r\n",
    "                nfevs_list[n_i][s][r] = nfevs_r\n",
    "                times_list[n_i][s][r] = times_r\n",
    "                EQD_list[n_i][s][r] = EQD_r\n",
    "            except:\n",
    "                print(\"\\tNo data for (n=%d, m=%d, s=%d, r=%d)\" %(n_list[n_i], m, s, r))\n",
    "                fvals_s.append(100*ones(1))\n",
    "                xfs_s.append(zeros(2*p_max))\n",
    "                funs_list[n_i][s][r] = 100*ones(p_max - p_min + 1)\n",
    "                errors_list[n_i][s][r] = 100*ones(p_max - p_min + 1)\n",
    "                nits_list[n_i][s][r] = zeros(p_max - p_min + 1)\n",
    "                nfevs_list[n_i][s][r] = zeros(p_max - p_min + 1)\n",
    "                times_list[n_i][s][r] = zeros(p_max - p_min + 1)\n",
    "                EQD_list[n_i][s][r] = 2**n\n",
    "    \n",
    "        fvals_n.append(fvals_s)\n",
    "        xfs_n.append(xfs_s)\n",
    "        H_diag_n.append(H_diag_r)\n",
    "    \n",
    "    fvals_list.append(fvals_n)\n",
    "    xfs_list.append(xfs_n)\n",
    "    H_diag_list.append(np.array(H_diag_n))\n",
    "\n",
    "p_c_list = np.floor(np.max(EQD_list, axis=2)/2)"
   ]
  },
  {
   "cell_type": "code",
   "execution_count": 10,
   "id": "389081c4-1b1b-40e8-b839-0b3a28ae62d2",
   "metadata": {},
   "outputs": [],
   "source": [
    "path = \"/home/kardashin/Work/QAOA-QFI/Data/\"\n",
    "file_name = path + pref + f\"n=({n_list[0]},{n_list[-1]})-k={k}-m=2n-p=({p_min},{p_max})-s=({s_min},{s_max})-r=({r_min},{r_max})\" + post \n",
    "\n",
    "data_dict = {\n",
    "    \"m\": \"2*n\",\n",
    "    \"n_list\": n_list,\n",
    "    \"s_min\": s_min,\n",
    "    \"s_max\": s_max,\n",
    "    \"r_min\": r_min,\n",
    "    \"r_max\": r_max,\n",
    "    \"p_min\": p_min,\n",
    "    \"p_max\": p_max,\n",
    "    \"funs_list\": funs_list,\n",
    "    \"errors_list\": errors_list,\n",
    "    \"nits_list\": nits_list,\n",
    "    \"nfevs_list\": nfevs_list,\n",
    "    \"times_list\": times_list,\n",
    "    \"EQD_list\": EQD_list,\n",
    "    \"H_diag_list\": H_diag_list,\n",
    "    # \"fvals_list\": fvals_list,\n",
    "    # \"xfs_list\": xfs_list,\n",
    "    \"note\": \"p -> p+1 initialization (prevsol). BFGS optimizer. m=2*m.\", \n",
    "} \n",
    "\n",
    "with open(file_name + \".dict\", 'wb') as fp:\n",
    "    pickle.dump(data_dict, fp, protocol=pickle.HIGHEST_PROTOCOL)"
   ]
  }
 ],
 "metadata": {
  "kernelspec": {
   "display_name": "Python 3",
   "language": "python",
   "name": "python3"
  },
  "language_info": {
   "codemirror_mode": {
    "name": "ipython",
    "version": 3
   },
   "file_extension": ".py",
   "mimetype": "text/x-python",
   "name": "python",
   "nbconvert_exporter": "python",
   "pygments_lexer": "ipython3",
   "version": "3.11.7"
  }
 },
 "nbformat": 4,
 "nbformat_minor": 5
}
