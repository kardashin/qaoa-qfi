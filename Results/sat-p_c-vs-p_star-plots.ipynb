{
 "cells": [
  {
   "cell_type": "code",
   "execution_count": 13,
   "id": "57dfd293-7385-4e52-a650-53c8be5bd180",
   "metadata": {},
   "outputs": [],
   "source": [
    "import numpy as np\n",
    "from numpy import array, arange, zeros, ones, concatenate, linspace\n",
    "import pickle\n",
    "\n",
    "from scipy.stats import gaussian_kde\n",
    "import seaborn as sns\n",
    "import matplotlib\n",
    "import matplotlib.pyplot as plt\n",
    "from matplotlib.colors import LinearSegmentedColormap\n",
    "matplotlib.rcParams['font.family']='serif'\n",
    "matplotlib.rcParams['axes.unicode_minus']=False\n",
    "matplotlib.rcParams.update({'font.size': 20})\n",
    "matplotlib.rc('text', usetex=True)"
   ]
  },
  {
   "cell_type": "code",
   "execution_count": 2,
   "id": "736a5222-c83d-4267-9bc5-1de8e8c7abbf",
   "metadata": {},
   "outputs": [],
   "source": [
    "def geo_mean_overflow(iterable):\n",
    "    return np.exp(np.nanmean(np.log(iterable)))"
   ]
  },
  {
   "cell_type": "code",
   "execution_count": 3,
   "id": "4b331748-ca35-4c0f-afad-1f78a4258785",
   "metadata": {},
   "outputs": [],
   "source": [
    "n_list = arange(4, 11)\n",
    "k = 2\n",
    "\n",
    "s_min = 0\n",
    "s_max = 49\n",
    "r_min = 0\n",
    "r_max = 19\n",
    "p_min = 1\n",
    "p_max = 150"
   ]
  },
  {
   "cell_type": "code",
   "execution_count": 4,
   "id": "4c83ccf1-7581-4c28-a843-b7ef88aa1e09",
   "metadata": {},
   "outputs": [],
   "source": [
    "path = \"/home/kardashin/Work/QAOA-QFI/Data/\"\n",
    "post = \"-prevsol\" \n",
    "file_name = path + \"sat-\" + f\"n=({n_list[0]},{n_list[-1]})-k={k}-m=2n-p=({p_min},{p_max})-s=({s_min},{s_max})-r=({r_min},{r_max})\" + post "
   ]
  },
  {
   "cell_type": "code",
   "execution_count": 6,
   "id": "41f5c81f-99f5-47d2-b7d4-cfc410f076e3",
   "metadata": {},
   "outputs": [
    {
     "data": {
      "text/plain": [
       "dict_keys(['m', 'n_list', 's_min', 's_max', 'r_min', 'r_max', 'p_min', 'p_max', 'funs_list', 'errors_list', 'nits_list', 'nfevs_list', 'times_list', 'EQD_list', 'H_diag_list', 'note'])"
      ]
     },
     "execution_count": 6,
     "metadata": {},
     "output_type": "execute_result"
    }
   ],
   "source": [
    "with open(file_name + \".dict\", 'rb') as fp:\n",
    "    data_dict = pickle.load(fp)\n",
    "data_dict.keys()"
   ]
  },
  {
   "cell_type": "code",
   "execution_count": 7,
   "id": "90537f1e-838e-4711-b6e5-4cc4d6e8afa9",
   "metadata": {},
   "outputs": [],
   "source": [
    "errors_list = data_dict[\"errors_list\"]\n",
    "EQD_list = data_dict[\"EQD_list\"]\n",
    "p_c_list = np.floor(np.max(EQD_list, axis=2)/2)"
   ]
  },
  {
   "cell_type": "code",
   "execution_count": 9,
   "id": "c4b63032-ffa3-4909-90a5-604f53b450f4",
   "metadata": {},
   "outputs": [
    {
     "name": "stdout",
     "output_type": "stream",
     "text": [
      "No convergence for (thr=1e-08, prob=8, s=7)\n",
      "No convergence for (thr=1e-08, prob=8, s=9)\n",
      "No convergence for (thr=1e-08, prob=8, s=23)\n",
      "No convergence for (thr=1e-08, prob=8, s=38)\n",
      "No convergence for (thr=1e-08, prob=8, s=43)\n",
      "No convergence for (thr=1e-08, prob=9, s=4)\n",
      "No convergence for (thr=1e-08, prob=9, s=8)\n",
      "No convergence for (thr=1e-08, prob=9, s=32)\n",
      "No convergence for (thr=1e-08, prob=9, s=37)\n",
      "No convergence for (thr=1e-08, prob=9, s=42)\n",
      "No convergence for (thr=1e-08, prob=9, s=43)\n",
      "No convergence for (thr=1e-08, prob=10, s=4)\n",
      "No convergence for (thr=1e-08, prob=10, s=13)\n",
      "No convergence for (thr=1e-08, prob=10, s=15)\n",
      "No convergence for (thr=1e-08, prob=10, s=23)\n",
      "No convergence for (thr=1e-08, prob=10, s=28)\n",
      "No convergence for (thr=1e-08, prob=10, s=38)\n",
      "No convergence for (thr=1e-08, prob=10, s=42)\n",
      "No convergence for (thr=1e-08, prob=10, s=44)\n",
      "No convergence for (thr=1e-08, prob=10, s=47)\n",
      "No convergence for (thr=1e-08, prob=10, s=48)\n"
     ]
    }
   ],
   "source": [
    "### count converged ###\n",
    "\n",
    "discard_nonconv = False\n",
    "cumulative = True\n",
    "error_threshold = 1e-8\n",
    "\n",
    "p_star_list = [] # [m][s]\n",
    "counts_list = []\n",
    "bad_indeces_list = []\n",
    "for n_i in range(len(n_list)):\n",
    "    counts_n = []\n",
    "    p_stars_n = []\n",
    "    bad_indeces_n = []\n",
    "    for s in range(s_min, s_max + 1):\n",
    "        drop_flag = False\n",
    "        counts_s = zeros(p_max - p_min + 1)\n",
    "        p_star_s = 2**(n_list[n_i]) - 1\n",
    "        for r in range(r_min, r_max + 1):\n",
    "            counts_r = zeros(p_max - p_min + 1)\n",
    "            for p_i in range(p_max - p_min):\n",
    "                if errors_list[n_i][s][r][p_i] < error_threshold:\n",
    "                    drop_flag = True\n",
    "                    if p_i + 1 < p_star_s:\n",
    "                        p_star_s = p_i + 1# p_i is an index: +1 for counting from zero and +1 for the next p \n",
    "                    if cumulative == True:\n",
    "                        counts_r += concatenate([zeros(p_i + 1), ones(p_max - p_min - p_i)])\n",
    "                        break\n",
    "                    else:\n",
    "                        counts_r[p_i + 1] += 1\n",
    "            counts_s += counts_r\n",
    "        if drop_flag == False:\n",
    "            print(f\"No convergence for (thr={error_threshold}, prob={n_list[n_i]}, s={s})\")\n",
    "            if discard_nonconv == True:\n",
    "                p_star_s = np.nan\n",
    "            bad_indeces_n.append( s )\n",
    "        counts_n.append(counts_s)\n",
    "        p_stars_n.append(p_star_s)\n",
    "    p_star_list.append(p_stars_n)\n",
    "    counts_list.append(counts_n)\n",
    "    bad_indeces_list.append(bad_indeces_n)"
   ]
  },
  {
   "cell_type": "code",
   "execution_count": 10,
   "id": "32cd5cc1-7a6e-4cf1-856c-114c9d49fd77",
   "metadata": {},
   "outputs": [],
   "source": [
    "errors_min_list = np.min(errors_list, axis=2)\n",
    "errors_min_cum_list = []\n",
    "for n_i in range(len(n_list)):\n",
    "    errors_min_cum_n = []\n",
    "    for s in range(s_min, s_max + 1):\n",
    "        errors_min_cum_s = [errors_min_list[n_i][s][0]]\n",
    "        for p in range(1, p_max - p_min + 1):\n",
    "            if errors_min_list[n_i][s][p] < errors_min_cum_s[-1]:\n",
    "                errors_min_cum_s.append(errors_min_list[n_i][s][p])\n",
    "            else:\n",
    "                errors_min_cum_s.append(errors_min_cum_s[-1])\n",
    "        errors_min_cum_n.append(errors_min_cum_s)\n",
    "    errors_min_cum_list.append(errors_min_cum_n)"
   ]
  },
  {
   "cell_type": "code",
   "execution_count": 16,
   "id": "541ad9d3-df74-4104-8308-673321a227bd",
   "metadata": {},
   "outputs": [
    {
     "data": {
      "image/png": "[encoded data removed]",
      "text/plain": [
       "<Figure size 625x400 with 1 Axes>"
      ]
     },
     "metadata": {},
     "output_type": "display_data"
    }
   ],
   "source": [
    "matplotlib.rcParams.update({'font.size': 18})\n",
    "\n",
    "n_s = (s_max - s_min + 1)\n",
    "sh = 0.09\n",
    "\n",
    "cmap_p = plt.get_cmap('Blues')\n",
    "colors_p = cmap_p(np.linspace(0.25, 1, cmap_p.N))\n",
    "cmap_p = LinearSegmentedColormap.from_list('Blues', colors_p)\n",
    "\n",
    "cmap_m = plt.get_cmap(\"Greens\")\n",
    "colors_m = cmap_m(np.linspace(0.25, 1, cmap_m.N))\n",
    "cmap_m = LinearSegmentedColormap.from_list(\"Greens\", colors_m)\n",
    "\n",
    "plt.figure(figsize=(6.25, 4))\n",
    "for n_i in range(len(n_list) - 0):\n",
    "\n",
    "    x_p = array([n_list[n_i] - sh]*len(p_c_list[n_i]))\n",
    "    y_p = array(p_c_list[n_i])\n",
    "    c_p = gaussian_kde(p_c_list[n_i])(p_c_list[n_i])\n",
    "    idx = c_p.argsort()\n",
    "    x_p, y_p, c_p = x_p[idx], y_p[idx], c_p[idx]\n",
    "    plot_p = plt.scatter(x_p, y_p, c=c_p, cmap=cmap_p, s=None, alpha=1, zorder=10)\n",
    "\n",
    "    x_m = array([n_list[n_i] + sh]*len(p_star_list[n_i]))\n",
    "    y_m = array(p_star_list[n_i])\n",
    "    c_m = gaussian_kde(p_star_list[n_i])(p_star_list[n_i])\n",
    "    idx = c_m.argsort()\n",
    "    x_m, y_m, c_m = x_m[idx], y_m[idx], c_m[idx]\n",
    "    plot_m = plt.scatter(x_m, y_m, c=c_m, cmap=cmap_m, s=None, alpha=1, zorder=10)\n",
    "\n",
    "plt.scatter([999], [0], color=\"tab:blue\", s=80, alpha=1, zorder=10, label=r\"$p_c$\")\n",
    "plt.scatter([999], [0], color=\"tab:green\", s=80, alpha=1, zorder=10, label=r\"$p^*$\")\n",
    "plt.scatter(n_list - sh, [geo_mean_overflow(x) for x in p_c_list], zorder=11, marker=\"X\", ec=\"white\", linewidth=0.75, color=\"navy\", s=100)\n",
    "plt.scatter(n_list + sh, [geo_mean_overflow(x) for x in p_star_list], zorder=11, marker=\"X\", ec=\"white\", linewidth=0.75, color=\"darkgreen\", s=100)\n",
    "plt.plot(n_list - sh, [geo_mean_overflow(x) for x in p_c_list], zorder=11, linewidth=0.5, color=\"navy\")\n",
    "plt.plot(n_list + sh, [geo_mean_overflow(x) for x in p_star_list], zorder=11, linewidth=0.5, color=\"darkgreen\")\n",
    "plt.xticks(n_list)\n",
    "plt.xlabel(r\"$n$\")\n",
    "plt.ylabel(r\"$p$\")\n",
    "plt.yscale(\"log\")\n",
    "plt.xlim(n_list[0] - 0.5, n_list[-1] + 0.5)\n",
    "plt.legend(framealpha=1)\n",
    "plt.grid(zorder=1)\n",
    "plt.tight_layout()\n",
    "plt.savefig(\"p_c-vs-p_star.pdf\", transparent=True, bbox_inches='tight')\n",
    "plt.show()"
   ]
  },
  {
   "cell_type": "code",
   "execution_count": null,
   "id": "983ad17e-dce5-4467-a4a1-367d8f053fc7",
   "metadata": {},
   "outputs": [],
   "source": []
  },
  {
   "cell_type": "code",
   "execution_count": null,
   "id": "10c1aead-38a6-46b0-8445-eb1e09d43bdb",
   "metadata": {},
   "outputs": [],
   "source": []
  },
  {
   "cell_type": "code",
   "execution_count": null,
   "id": "651169dc-4f64-4399-9db2-6a085f8bc252",
   "metadata": {},
   "outputs": [],
   "source": []
  },
  {
   "cell_type": "code",
   "execution_count": null,
   "id": "abc4e09b-fe92-4a0a-ae5e-a104b7c9bd75",
   "metadata": {},
   "outputs": [],
   "source": []
  },
  {
   "cell_type": "code",
   "execution_count": null,
   "id": "9951f0cd-213b-4666-bc14-8cb68ca40398",
   "metadata": {},
   "outputs": [],
   "source": []
  }
 ],
 "metadata": {
  "kernelspec": {
   "display_name": "Python 3",
   "language": "python",
   "name": "python3"
  },
  "language_info": {
   "codemirror_mode": {
    "name": "ipython",
    "version": 3
   },
   "file_extension": ".py",
   "mimetype": "text/x-python",
   "name": "python",
   "nbconvert_exporter": "python",
   "pygments_lexer": "ipython3",
   "version": "3.11.7"
  }
 },
 "nbformat": 4,
 "nbformat_minor": 5
}
